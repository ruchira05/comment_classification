{
 "cells": [
  {
   "cell_type": "code",
   "execution_count": 2,
   "id": "1a9c0c0e",
   "metadata": {},
   "outputs": [],
   "source": [
    "# import libraries\n",
    "import pandas as pd\n",
    "import tensorflow as tf"
   ]
  },
  {
   "cell_type": "code",
   "execution_count": 38,
   "id": "2255de75",
   "metadata": {},
   "outputs": [
    {
     "data": {
      "text/html": [
       "<div>\n",
       "<style scoped>\n",
       "    .dataframe tbody tr th:only-of-type {\n",
       "        vertical-align: middle;\n",
       "    }\n",
       "\n",
       "    .dataframe tbody tr th {\n",
       "        vertical-align: top;\n",
       "    }\n",
       "\n",
       "    .dataframe thead th {\n",
       "        text-align: right;\n",
       "    }\n",
       "</style>\n",
       "<table border=\"1\" class=\"dataframe\">\n",
       "  <thead>\n",
       "    <tr style=\"text-align: right;\">\n",
       "      <th></th>\n",
       "      <th>CommentId</th>\n",
       "      <th>VideoId</th>\n",
       "      <th>Text</th>\n",
       "      <th>IsToxic</th>\n",
       "      <th>IsAbusive</th>\n",
       "      <th>IsThreat</th>\n",
       "      <th>IsProvocative</th>\n",
       "      <th>IsObscene</th>\n",
       "      <th>IsHatespeech</th>\n",
       "      <th>IsRacist</th>\n",
       "      <th>IsNationalist</th>\n",
       "      <th>IsSexist</th>\n",
       "      <th>IsHomophobic</th>\n",
       "      <th>IsReligiousHate</th>\n",
       "      <th>IsRadicalism</th>\n",
       "    </tr>\n",
       "  </thead>\n",
       "  <tbody>\n",
       "    <tr>\n",
       "      <th>0</th>\n",
       "      <td>Ugg2KwwX0V8-aXgCoAEC</td>\n",
       "      <td>04kJtp6pVXI</td>\n",
       "      <td>If only people would just take a step back and...</td>\n",
       "      <td>False</td>\n",
       "      <td>False</td>\n",
       "      <td>False</td>\n",
       "      <td>False</td>\n",
       "      <td>False</td>\n",
       "      <td>False</td>\n",
       "      <td>False</td>\n",
       "      <td>False</td>\n",
       "      <td>False</td>\n",
       "      <td>False</td>\n",
       "      <td>False</td>\n",
       "      <td>False</td>\n",
       "    </tr>\n",
       "    <tr>\n",
       "      <th>1</th>\n",
       "      <td>Ugg2s5AzSPioEXgCoAEC</td>\n",
       "      <td>04kJtp6pVXI</td>\n",
       "      <td>Law enforcement is not trained to shoot to app...</td>\n",
       "      <td>True</td>\n",
       "      <td>True</td>\n",
       "      <td>False</td>\n",
       "      <td>False</td>\n",
       "      <td>False</td>\n",
       "      <td>False</td>\n",
       "      <td>False</td>\n",
       "      <td>False</td>\n",
       "      <td>False</td>\n",
       "      <td>False</td>\n",
       "      <td>False</td>\n",
       "      <td>False</td>\n",
       "    </tr>\n",
       "    <tr>\n",
       "      <th>2</th>\n",
       "      <td>Ugg3dWTOxryFfHgCoAEC</td>\n",
       "      <td>04kJtp6pVXI</td>\n",
       "      <td>\\nDont you reckon them 'black lives matter' ba...</td>\n",
       "      <td>True</td>\n",
       "      <td>True</td>\n",
       "      <td>False</td>\n",
       "      <td>False</td>\n",
       "      <td>True</td>\n",
       "      <td>False</td>\n",
       "      <td>False</td>\n",
       "      <td>False</td>\n",
       "      <td>False</td>\n",
       "      <td>False</td>\n",
       "      <td>False</td>\n",
       "      <td>False</td>\n",
       "    </tr>\n",
       "    <tr>\n",
       "      <th>3</th>\n",
       "      <td>Ugg7Gd006w1MPngCoAEC</td>\n",
       "      <td>04kJtp6pVXI</td>\n",
       "      <td>There are a very large number of people who do...</td>\n",
       "      <td>False</td>\n",
       "      <td>False</td>\n",
       "      <td>False</td>\n",
       "      <td>False</td>\n",
       "      <td>False</td>\n",
       "      <td>False</td>\n",
       "      <td>False</td>\n",
       "      <td>False</td>\n",
       "      <td>False</td>\n",
       "      <td>False</td>\n",
       "      <td>False</td>\n",
       "      <td>False</td>\n",
       "    </tr>\n",
       "    <tr>\n",
       "      <th>4</th>\n",
       "      <td>Ugg8FfTbbNF8IngCoAEC</td>\n",
       "      <td>04kJtp6pVXI</td>\n",
       "      <td>The Arab dude is absolutely right, he should h...</td>\n",
       "      <td>False</td>\n",
       "      <td>False</td>\n",
       "      <td>False</td>\n",
       "      <td>False</td>\n",
       "      <td>False</td>\n",
       "      <td>False</td>\n",
       "      <td>False</td>\n",
       "      <td>False</td>\n",
       "      <td>False</td>\n",
       "      <td>False</td>\n",
       "      <td>False</td>\n",
       "      <td>False</td>\n",
       "    </tr>\n",
       "  </tbody>\n",
       "</table>\n",
       "</div>"
      ],
      "text/plain": [
       "              CommentId      VideoId  \\\n",
       "0  Ugg2KwwX0V8-aXgCoAEC  04kJtp6pVXI   \n",
       "1  Ugg2s5AzSPioEXgCoAEC  04kJtp6pVXI   \n",
       "2  Ugg3dWTOxryFfHgCoAEC  04kJtp6pVXI   \n",
       "3  Ugg7Gd006w1MPngCoAEC  04kJtp6pVXI   \n",
       "4  Ugg8FfTbbNF8IngCoAEC  04kJtp6pVXI   \n",
       "\n",
       "                                                Text  IsToxic  IsAbusive  \\\n",
       "0  If only people would just take a step back and...    False      False   \n",
       "1  Law enforcement is not trained to shoot to app...     True       True   \n",
       "2  \\nDont you reckon them 'black lives matter' ba...     True       True   \n",
       "3  There are a very large number of people who do...    False      False   \n",
       "4  The Arab dude is absolutely right, he should h...    False      False   \n",
       "\n",
       "   IsThreat  IsProvocative  IsObscene  IsHatespeech  IsRacist  IsNationalist  \\\n",
       "0     False          False      False         False     False          False   \n",
       "1     False          False      False         False     False          False   \n",
       "2     False          False       True         False     False          False   \n",
       "3     False          False      False         False     False          False   \n",
       "4     False          False      False         False     False          False   \n",
       "\n",
       "   IsSexist  IsHomophobic  IsReligiousHate  IsRadicalism  \n",
       "0     False         False            False         False  \n",
       "1     False         False            False         False  \n",
       "2     False         False            False         False  \n",
       "3     False         False            False         False  \n",
       "4     False         False            False         False  "
      ]
     },
     "execution_count": 38,
     "metadata": {},
     "output_type": "execute_result"
    }
   ],
   "source": [
    "# get dataset from csv\n",
    "df = pd.read_csv('data.csv')\n",
    "# df = df.head(100)\n",
    "df.head()"
   ]
  },
  {
   "cell_type": "code",
   "execution_count": 74,
   "id": "2e23bf11",
   "metadata": {},
   "outputs": [
    {
     "data": {
      "text/plain": [
       "(1000, 15)"
      ]
     },
     "execution_count": 74,
     "metadata": {},
     "output_type": "execute_result"
    }
   ],
   "source": [
    "df.shape"
   ]
  },
  {
   "cell_type": "code",
   "execution_count": 75,
   "id": "810f6200",
   "metadata": {},
   "outputs": [],
   "source": [
    "#drop unnessossory colomns\n",
    "df = df.drop(['CommentId' , 'VideoId'], axis=1)"
   ]
  },
  {
   "cell_type": "code",
   "execution_count": 76,
   "id": "5d88b85c",
   "metadata": {},
   "outputs": [
    {
     "data": {
      "text/plain": [
       "(1000, 13)"
      ]
     },
     "execution_count": 76,
     "metadata": {},
     "output_type": "execute_result"
    }
   ],
   "source": [
    "df.shape"
   ]
  },
  {
   "cell_type": "code",
   "execution_count": 77,
   "id": "b39a3cd3",
   "metadata": {},
   "outputs": [
    {
     "name": "stdout",
     "output_type": "stream",
     "text": [
      "---- IsThreat ---\n",
      "False    979\n",
      "True      21\n",
      "Name: IsThreat, dtype: int64\n",
      "---- IsProvocative ---\n",
      "False    839\n",
      "True     161\n",
      "Name: IsProvocative, dtype: int64\n",
      "---- IsObscene ---\n",
      "False    900\n",
      "True     100\n",
      "Name: IsObscene, dtype: int64\n",
      "---- IsHatespeech ---\n",
      "False    862\n",
      "True     138\n",
      "Name: IsHatespeech, dtype: int64\n",
      "---- IsRacist ---\n",
      "False    875\n",
      "True     125\n",
      "Name: IsRacist, dtype: int64\n",
      "---- IsNationalist ---\n",
      "False    992\n",
      "True       8\n",
      "Name: IsNationalist, dtype: int64\n",
      "---- IsSexist ---\n",
      "False    999\n",
      "True       1\n",
      "Name: IsSexist, dtype: int64\n",
      "---- IsHomophobic ---\n",
      "False    1000\n",
      "Name: IsHomophobic, dtype: int64\n",
      "---- IsReligiousHate ---\n",
      "False    988\n",
      "True      12\n",
      "Name: IsReligiousHate, dtype: int64\n",
      "---- IsRadicalism ---\n",
      "False    1000\n",
      "Name: IsRadicalism, dtype: int64\n"
     ]
    }
   ],
   "source": [
    "# display colomn counts\n",
    "for c in df.columns[3:]:\n",
    "    print (\"---- %s ---\" % c)\n",
    "    print (df[c].value_counts())\n"
   ]
  },
  {
   "cell_type": "code",
   "execution_count": 78,
   "id": "16d7ff97",
   "metadata": {},
   "outputs": [
    {
     "data": {
      "text/plain": [
       "Text               0\n",
       "IsToxic            0\n",
       "IsAbusive          0\n",
       "IsThreat           0\n",
       "IsProvocative      0\n",
       "IsObscene          0\n",
       "IsHatespeech       0\n",
       "IsRacist           0\n",
       "IsNationalist      0\n",
       "IsSexist           0\n",
       "IsHomophobic       0\n",
       "IsReligiousHate    0\n",
       "IsRadicalism       0\n",
       "dtype: int64"
      ]
     },
     "execution_count": 78,
     "metadata": {},
     "output_type": "execute_result"
    }
   ],
   "source": [
    "#check is there any null values\n",
    "miss=df.isnull()\n",
    "miss.sum()"
   ]
  },
  {
   "cell_type": "code",
   "execution_count": 79,
   "id": "3d8fcd40",
   "metadata": {},
   "outputs": [],
   "source": [
    "import matplotlib.pyplot as plt"
   ]
  },
  {
   "cell_type": "code",
   "execution_count": 80,
   "id": "b64b3297",
   "metadata": {},
   "outputs": [
    {
     "name": "stderr",
     "output_type": "stream",
     "text": [
      "/var/folders/vm/2psvd6q52l7_2t27bl_kd7kr0000gn/T/ipykernel_11489/4214245630.py:1: FutureWarning: The default value of numeric_only in DataFrame.corr is deprecated. In a future version, it will default to False. Select only valid columns or specify the value of numeric_only to silence this warning.\n",
      "  correlation_matrix = df.corr()\n"
     ]
    }
   ],
   "source": [
    "correlation_matrix = df.corr()"
   ]
  },
  {
   "cell_type": "code",
   "execution_count": 81,
   "id": "e7629e8e",
   "metadata": {},
   "outputs": [
    {
     "data": {
      "image/png": "[encoded data removed]",
      "text/plain": [
       "<Figure size 1000x800 with 2 Axes>"
      ]
     },
     "metadata": {},
     "output_type": "display_data"
    }
   ],
   "source": [
    "plt.figure(figsize=(10, 8))\n",
    "plt.imshow(correlation_matrix, cmap='coolwarm', interpolation='nearest')\n",
    "plt.colorbar()\n",
    "plt.xticks(range(len(correlation_matrix.columns)), correlation_matrix.columns, rotation=90)\n",
    "plt.yticks(range(len(correlation_matrix.columns)), correlation_matrix.columns)\n",
    "plt.title('Correlation Matrix')\n",
    "plt.show()"
   ]
  },
  {
   "cell_type": "code",
   "execution_count": 82,
   "id": "ced71570",
   "metadata": {},
   "outputs": [
    {
     "data": {
      "text/html": [
       "<div>\n",
       "<style scoped>\n",
       "    .dataframe tbody tr th:only-of-type {\n",
       "        vertical-align: middle;\n",
       "    }\n",
       "\n",
       "    .dataframe tbody tr th {\n",
       "        vertical-align: top;\n",
       "    }\n",
       "\n",
       "    .dataframe thead th {\n",
       "        text-align: right;\n",
       "    }\n",
       "</style>\n",
       "<table border=\"1\" class=\"dataframe\">\n",
       "  <thead>\n",
       "    <tr style=\"text-align: right;\">\n",
       "      <th></th>\n",
       "      <th>IsToxic</th>\n",
       "      <th>IsAbusive</th>\n",
       "      <th>IsThreat</th>\n",
       "      <th>IsProvocative</th>\n",
       "      <th>IsObscene</th>\n",
       "      <th>IsHatespeech</th>\n",
       "      <th>IsRacist</th>\n",
       "      <th>IsNationalist</th>\n",
       "      <th>IsSexist</th>\n",
       "      <th>IsHomophobic</th>\n",
       "      <th>IsReligiousHate</th>\n",
       "      <th>IsRadicalism</th>\n",
       "    </tr>\n",
       "  </thead>\n",
       "  <tbody>\n",
       "    <tr>\n",
       "      <th>IsToxic</th>\n",
       "      <td>1.000000</td>\n",
       "      <td>0.797086</td>\n",
       "      <td>0.158048</td>\n",
       "      <td>0.472718</td>\n",
       "      <td>0.359707</td>\n",
       "      <td>0.431774</td>\n",
       "      <td>0.407869</td>\n",
       "      <td>0.096908</td>\n",
       "      <td>0.034142</td>\n",
       "      <td>NaN</td>\n",
       "      <td>0.118928</td>\n",
       "      <td>NaN</td>\n",
       "    </tr>\n",
       "    <tr>\n",
       "      <th>IsAbusive</th>\n",
       "      <td>0.797086</td>\n",
       "      <td>1.000000</td>\n",
       "      <td>0.198282</td>\n",
       "      <td>0.593057</td>\n",
       "      <td>0.451277</td>\n",
       "      <td>-0.119603</td>\n",
       "      <td>-0.121005</td>\n",
       "      <td>-0.042843</td>\n",
       "      <td>0.042833</td>\n",
       "      <td>NaN</td>\n",
       "      <td>-0.042970</td>\n",
       "      <td>NaN</td>\n",
       "    </tr>\n",
       "    <tr>\n",
       "      <th>IsThreat</th>\n",
       "      <td>0.158048</td>\n",
       "      <td>0.198282</td>\n",
       "      <td>1.000000</td>\n",
       "      <td>0.106626</td>\n",
       "      <td>-0.048820</td>\n",
       "      <td>0.002063</td>\n",
       "      <td>-0.034268</td>\n",
       "      <td>-0.013152</td>\n",
       "      <td>-0.004634</td>\n",
       "      <td>NaN</td>\n",
       "      <td>0.111962</td>\n",
       "      <td>NaN</td>\n",
       "    </tr>\n",
       "    <tr>\n",
       "      <th>IsProvocative</th>\n",
       "      <td>0.472718</td>\n",
       "      <td>0.593057</td>\n",
       "      <td>0.106626</td>\n",
       "      <td>1.000000</td>\n",
       "      <td>0.089788</td>\n",
       "      <td>-0.072719</td>\n",
       "      <td>-0.075072</td>\n",
       "      <td>-0.008796</td>\n",
       "      <td>-0.013860</td>\n",
       "      <td>NaN</td>\n",
       "      <td>0.001699</td>\n",
       "      <td>NaN</td>\n",
       "    </tr>\n",
       "    <tr>\n",
       "      <th>IsObscene</th>\n",
       "      <td>0.359707</td>\n",
       "      <td>0.451277</td>\n",
       "      <td>-0.048820</td>\n",
       "      <td>0.089788</td>\n",
       "      <td>1.000000</td>\n",
       "      <td>-0.027061</td>\n",
       "      <td>-0.035277</td>\n",
       "      <td>-0.029934</td>\n",
       "      <td>0.094916</td>\n",
       "      <td>NaN</td>\n",
       "      <td>-0.036736</td>\n",
       "      <td>NaN</td>\n",
       "    </tr>\n",
       "    <tr>\n",
       "      <th>IsHatespeech</th>\n",
       "      <td>0.431774</td>\n",
       "      <td>-0.119603</td>\n",
       "      <td>0.002063</td>\n",
       "      <td>-0.072719</td>\n",
       "      <td>-0.027061</td>\n",
       "      <td>1.000000</td>\n",
       "      <td>0.944637</td>\n",
       "      <td>0.224442</td>\n",
       "      <td>0.079074</td>\n",
       "      <td>NaN</td>\n",
       "      <td>0.275440</td>\n",
       "      <td>NaN</td>\n",
       "    </tr>\n",
       "    <tr>\n",
       "      <th>IsRacist</th>\n",
       "      <td>0.407869</td>\n",
       "      <td>-0.121005</td>\n",
       "      <td>-0.034268</td>\n",
       "      <td>-0.075072</td>\n",
       "      <td>-0.035277</td>\n",
       "      <td>0.944637</td>\n",
       "      <td>1.000000</td>\n",
       "      <td>0.237595</td>\n",
       "      <td>-0.011958</td>\n",
       "      <td>NaN</td>\n",
       "      <td>0.013885</td>\n",
       "      <td>NaN</td>\n",
       "    </tr>\n",
       "    <tr>\n",
       "      <th>IsNationalist</th>\n",
       "      <td>0.096908</td>\n",
       "      <td>-0.042843</td>\n",
       "      <td>-0.013152</td>\n",
       "      <td>-0.008796</td>\n",
       "      <td>-0.029934</td>\n",
       "      <td>0.224442</td>\n",
       "      <td>0.237595</td>\n",
       "      <td>1.000000</td>\n",
       "      <td>-0.002841</td>\n",
       "      <td>NaN</td>\n",
       "      <td>-0.009897</td>\n",
       "      <td>NaN</td>\n",
       "    </tr>\n",
       "    <tr>\n",
       "      <th>IsSexist</th>\n",
       "      <td>0.034142</td>\n",
       "      <td>0.042833</td>\n",
       "      <td>-0.004634</td>\n",
       "      <td>-0.013860</td>\n",
       "      <td>0.094916</td>\n",
       "      <td>0.079074</td>\n",
       "      <td>-0.011958</td>\n",
       "      <td>-0.002841</td>\n",
       "      <td>1.000000</td>\n",
       "      <td>NaN</td>\n",
       "      <td>-0.003487</td>\n",
       "      <td>NaN</td>\n",
       "    </tr>\n",
       "    <tr>\n",
       "      <th>IsHomophobic</th>\n",
       "      <td>NaN</td>\n",
       "      <td>NaN</td>\n",
       "      <td>NaN</td>\n",
       "      <td>NaN</td>\n",
       "      <td>NaN</td>\n",
       "      <td>NaN</td>\n",
       "      <td>NaN</td>\n",
       "      <td>NaN</td>\n",
       "      <td>NaN</td>\n",
       "      <td>NaN</td>\n",
       "      <td>NaN</td>\n",
       "      <td>NaN</td>\n",
       "    </tr>\n",
       "    <tr>\n",
       "      <th>IsReligiousHate</th>\n",
       "      <td>0.118928</td>\n",
       "      <td>-0.042970</td>\n",
       "      <td>0.111962</td>\n",
       "      <td>0.001699</td>\n",
       "      <td>-0.036736</td>\n",
       "      <td>0.275440</td>\n",
       "      <td>0.013885</td>\n",
       "      <td>-0.009897</td>\n",
       "      <td>-0.003487</td>\n",
       "      <td>NaN</td>\n",
       "      <td>1.000000</td>\n",
       "      <td>NaN</td>\n",
       "    </tr>\n",
       "    <tr>\n",
       "      <th>IsRadicalism</th>\n",
       "      <td>NaN</td>\n",
       "      <td>NaN</td>\n",
       "      <td>NaN</td>\n",
       "      <td>NaN</td>\n",
       "      <td>NaN</td>\n",
       "      <td>NaN</td>\n",
       "      <td>NaN</td>\n",
       "      <td>NaN</td>\n",
       "      <td>NaN</td>\n",
       "      <td>NaN</td>\n",
       "      <td>NaN</td>\n",
       "      <td>NaN</td>\n",
       "    </tr>\n",
       "  </tbody>\n",
       "</table>\n",
       "</div>"
      ],
      "text/plain": [
       "                  IsToxic  IsAbusive  IsThreat  IsProvocative  IsObscene  \\\n",
       "IsToxic          1.000000   0.797086  0.158048       0.472718   0.359707   \n",
       "IsAbusive        0.797086   1.000000  0.198282       0.593057   0.451277   \n",
       "IsThreat         0.158048   0.198282  1.000000       0.106626  -0.048820   \n",
       "IsProvocative    0.472718   0.593057  0.106626       1.000000   0.089788   \n",
       "IsObscene        0.359707   0.451277 -0.048820       0.089788   1.000000   \n",
       "IsHatespeech     0.431774  -0.119603  0.002063      -0.072719  -0.027061   \n",
       "IsRacist         0.407869  -0.121005 -0.034268      -0.075072  -0.035277   \n",
       "IsNationalist    0.096908  -0.042843 -0.013152      -0.008796  -0.029934   \n",
       "IsSexist         0.034142   0.042833 -0.004634      -0.013860   0.094916   \n",
       "IsHomophobic          NaN        NaN       NaN            NaN        NaN   \n",
       "IsReligiousHate  0.118928  -0.042970  0.111962       0.001699  -0.036736   \n",
       "IsRadicalism          NaN        NaN       NaN            NaN        NaN   \n",
       "\n",
       "                 IsHatespeech  IsRacist  IsNationalist  IsSexist  \\\n",
       "IsToxic              0.431774  0.407869       0.096908  0.034142   \n",
       "IsAbusive           -0.119603 -0.121005      -0.042843  0.042833   \n",
       "IsThreat             0.002063 -0.034268      -0.013152 -0.004634   \n",
       "IsProvocative       -0.072719 -0.075072      -0.008796 -0.013860   \n",
       "IsObscene           -0.027061 -0.035277      -0.029934  0.094916   \n",
       "IsHatespeech         1.000000  0.944637       0.224442  0.079074   \n",
       "IsRacist             0.944637  1.000000       0.237595 -0.011958   \n",
       "IsNationalist        0.224442  0.237595       1.000000 -0.002841   \n",
       "IsSexist             0.079074 -0.011958      -0.002841  1.000000   \n",
       "IsHomophobic              NaN       NaN            NaN       NaN   \n",
       "IsReligiousHate      0.275440  0.013885      -0.009897 -0.003487   \n",
       "IsRadicalism              NaN       NaN            NaN       NaN   \n",
       "\n",
       "                 IsHomophobic  IsReligiousHate  IsRadicalism  \n",
       "IsToxic                   NaN         0.118928           NaN  \n",
       "IsAbusive                 NaN        -0.042970           NaN  \n",
       "IsThreat                  NaN         0.111962           NaN  \n",
       "IsProvocative             NaN         0.001699           NaN  \n",
       "IsObscene                 NaN        -0.036736           NaN  \n",
       "IsHatespeech              NaN         0.275440           NaN  \n",
       "IsRacist                  NaN         0.013885           NaN  \n",
       "IsNationalist             NaN        -0.009897           NaN  \n",
       "IsSexist                  NaN        -0.003487           NaN  \n",
       "IsHomophobic              NaN              NaN           NaN  \n",
       "IsReligiousHate           NaN         1.000000           NaN  \n",
       "IsRadicalism              NaN              NaN           NaN  "
      ]
     },
     "execution_count": 82,
     "metadata": {},
     "output_type": "execute_result"
    }
   ],
   "source": [
    "correlation_matrix"
   ]
  },
  {
   "cell_type": "code",
   "execution_count": 83,
   "metadata": {},
   "outputs": [],
   "source": [
    "df=df.drop(['IsHomophobic' , 'IsRadicalism'] , axis=1)"
   ]
  },
  {
   "cell_type": "code",
   "execution_count": 84,
   "id": "7953bf87",
   "metadata": {},
   "outputs": [
    {
     "data": {
      "text/html": [
       "<div>\n",
       "<style scoped>\n",
       "    .dataframe tbody tr th:only-of-type {\n",
       "        vertical-align: middle;\n",
       "    }\n",
       "\n",
       "    .dataframe tbody tr th {\n",
       "        vertical-align: top;\n",
       "    }\n",
       "\n",
       "    .dataframe thead th {\n",
       "        text-align: right;\n",
       "    }\n",
       "</style>\n",
       "<table border=\"1\" class=\"dataframe\">\n",
       "  <thead>\n",
       "    <tr style=\"text-align: right;\">\n",
       "      <th></th>\n",
       "      <th>Text</th>\n",
       "      <th>IsToxic</th>\n",
       "      <th>IsAbusive</th>\n",
       "      <th>IsThreat</th>\n",
       "      <th>IsProvocative</th>\n",
       "      <th>IsObscene</th>\n",
       "      <th>IsHatespeech</th>\n",
       "      <th>IsRacist</th>\n",
       "      <th>IsNationalist</th>\n",
       "      <th>IsSexist</th>\n",
       "      <th>IsReligiousHate</th>\n",
       "    </tr>\n",
       "  </thead>\n",
       "  <tbody>\n",
       "    <tr>\n",
       "      <th>0</th>\n",
       "      <td>If only people would just take a step back and...</td>\n",
       "      <td>False</td>\n",
       "      <td>False</td>\n",
       "      <td>False</td>\n",
       "      <td>False</td>\n",
       "      <td>False</td>\n",
       "      <td>False</td>\n",
       "      <td>False</td>\n",
       "      <td>False</td>\n",
       "      <td>False</td>\n",
       "      <td>False</td>\n",
       "    </tr>\n",
       "    <tr>\n",
       "      <th>1</th>\n",
       "      <td>Law enforcement is not trained to shoot to app...</td>\n",
       "      <td>True</td>\n",
       "      <td>True</td>\n",
       "      <td>False</td>\n",
       "      <td>False</td>\n",
       "      <td>False</td>\n",
       "      <td>False</td>\n",
       "      <td>False</td>\n",
       "      <td>False</td>\n",
       "      <td>False</td>\n",
       "      <td>False</td>\n",
       "    </tr>\n",
       "    <tr>\n",
       "      <th>2</th>\n",
       "      <td>\\nDont you reckon them 'black lives matter' ba...</td>\n",
       "      <td>True</td>\n",
       "      <td>True</td>\n",
       "      <td>False</td>\n",
       "      <td>False</td>\n",
       "      <td>True</td>\n",
       "      <td>False</td>\n",
       "      <td>False</td>\n",
       "      <td>False</td>\n",
       "      <td>False</td>\n",
       "      <td>False</td>\n",
       "    </tr>\n",
       "    <tr>\n",
       "      <th>3</th>\n",
       "      <td>There are a very large number of people who do...</td>\n",
       "      <td>False</td>\n",
       "      <td>False</td>\n",
       "      <td>False</td>\n",
       "      <td>False</td>\n",
       "      <td>False</td>\n",
       "      <td>False</td>\n",
       "      <td>False</td>\n",
       "      <td>False</td>\n",
       "      <td>False</td>\n",
       "      <td>False</td>\n",
       "    </tr>\n",
       "    <tr>\n",
       "      <th>4</th>\n",
       "      <td>The Arab dude is absolutely right, he should h...</td>\n",
       "      <td>False</td>\n",
       "      <td>False</td>\n",
       "      <td>False</td>\n",
       "      <td>False</td>\n",
       "      <td>False</td>\n",
       "      <td>False</td>\n",
       "      <td>False</td>\n",
       "      <td>False</td>\n",
       "      <td>False</td>\n",
       "      <td>False</td>\n",
       "    </tr>\n",
       "  </tbody>\n",
       "</table>\n",
       "</div>"
      ],
      "text/plain": [
       "                                                Text  IsToxic  IsAbusive  \\\n",
       "0  If only people would just take a step back and...    False      False   \n",
       "1  Law enforcement is not trained to shoot to app...     True       True   \n",
       "2  \\nDont you reckon them 'black lives matter' ba...     True       True   \n",
       "3  There are a very large number of people who do...    False      False   \n",
       "4  The Arab dude is absolutely right, he should h...    False      False   \n",
       "\n",
       "   IsThreat  IsProvocative  IsObscene  IsHatespeech  IsRacist  IsNationalist  \\\n",
       "0     False          False      False         False     False          False   \n",
       "1     False          False      False         False     False          False   \n",
       "2     False          False       True         False     False          False   \n",
       "3     False          False      False         False     False          False   \n",
       "4     False          False      False         False     False          False   \n",
       "\n",
       "   IsSexist  IsReligiousHate  \n",
       "0     False            False  \n",
       "1     False            False  \n",
       "2     False            False  \n",
       "3     False            False  \n",
       "4     False            False  "
      ]
     },
     "execution_count": 84,
     "metadata": {},
     "output_type": "execute_result"
    }
   ],
   "source": [
    "df.head()"
   ]
  },
  {
   "cell_type": "code",
   "execution_count": 85,
   "id": "8ce86317",
   "metadata": {},
   "outputs": [],
   "source": [
    "# extract features and target variables\n",
    "X = df['Text'] #features\n",
    "Y = df[df.columns[1:]] # target variables"
   ]
  },
  {
   "cell_type": "code",
   "execution_count": 86,
   "id": "49f4bb5a",
   "metadata": {},
   "outputs": [
    {
     "name": "stderr",
     "output_type": "stream",
     "text": [
      "[nltk_data] Downloading package words to /Users/mudara/nltk_data...\n",
      "[nltk_data]   Package words is already up-to-date!\n"
     ]
    }
   ],
   "source": [
    "# import Natural Language Toolkit to check and determine comment qualiry\n",
    "# download and impport words library from nltk\n",
    "import nltk\n",
    "nltk.download('words')\n",
    "from nltk.corpus import words"
   ]
  },
  {
   "cell_type": "code",
   "execution_count": 87,
   "id": "424b2a56",
   "metadata": {},
   "outputs": [],
   "source": [
    "# define a function to check a comment words is english or not\n",
    "def get_english_word_rate(row):\n",
    "    row_words = row.Text.lower().split()\n",
    "    word_count = len(row_words)\n",
    "    english_words = 0\n",
    "    for w in row_words:\n",
    "        if w in words.words():\n",
    "            english_words += 1\n",
    "    return english_words / word_count"
   ]
  },
  {
   "cell_type": "code",
   "execution_count": 89,
   "id": "d6fd2e7e",
   "metadata": {},
   "outputs": [],
   "source": [
    "# call and add percentage row by row\n",
    "df['english_word_rate'] = df.apply(get_english_word_rate,axis=1)"
   ]
  },
  {
   "cell_type": "code",
   "execution_count": 90,
   "id": "0574970e",
   "metadata": {},
   "outputs": [
    {
     "data": {
      "text/html": [
       "<div>\n",
       "<style scoped>\n",
       "    .dataframe tbody tr th:only-of-type {\n",
       "        vertical-align: middle;\n",
       "    }\n",
       "\n",
       "    .dataframe tbody tr th {\n",
       "        vertical-align: top;\n",
       "    }\n",
       "\n",
       "    .dataframe thead th {\n",
       "        text-align: right;\n",
       "    }\n",
       "</style>\n",
       "<table border=\"1\" class=\"dataframe\">\n",
       "  <thead>\n",
       "    <tr style=\"text-align: right;\">\n",
       "      <th></th>\n",
       "      <th>Text</th>\n",
       "      <th>IsToxic</th>\n",
       "      <th>IsAbusive</th>\n",
       "      <th>IsThreat</th>\n",
       "      <th>IsProvocative</th>\n",
       "      <th>IsObscene</th>\n",
       "      <th>IsHatespeech</th>\n",
       "      <th>IsRacist</th>\n",
       "      <th>IsNationalist</th>\n",
       "      <th>IsSexist</th>\n",
       "      <th>IsReligiousHate</th>\n",
       "      <th>english_word_rate</th>\n",
       "    </tr>\n",
       "  </thead>\n",
       "  <tbody>\n",
       "    <tr>\n",
       "      <th>0</th>\n",
       "      <td>If only people would just take a step back and...</td>\n",
       "      <td>False</td>\n",
       "      <td>False</td>\n",
       "      <td>False</td>\n",
       "      <td>False</td>\n",
       "      <td>False</td>\n",
       "      <td>False</td>\n",
       "      <td>False</td>\n",
       "      <td>False</td>\n",
       "      <td>False</td>\n",
       "      <td>False</td>\n",
       "      <td>0.846690</td>\n",
       "    </tr>\n",
       "    <tr>\n",
       "      <th>1</th>\n",
       "      <td>Law enforcement is not trained to shoot to app...</td>\n",
       "      <td>True</td>\n",
       "      <td>True</td>\n",
       "      <td>False</td>\n",
       "      <td>False</td>\n",
       "      <td>False</td>\n",
       "      <td>False</td>\n",
       "      <td>False</td>\n",
       "      <td>False</td>\n",
       "      <td>False</td>\n",
       "      <td>False</td>\n",
       "      <td>0.840000</td>\n",
       "    </tr>\n",
       "    <tr>\n",
       "      <th>2</th>\n",
       "      <td>\\nDont you reckon them 'black lives matter' ba...</td>\n",
       "      <td>True</td>\n",
       "      <td>True</td>\n",
       "      <td>False</td>\n",
       "      <td>False</td>\n",
       "      <td>True</td>\n",
       "      <td>False</td>\n",
       "      <td>False</td>\n",
       "      <td>False</td>\n",
       "      <td>False</td>\n",
       "      <td>False</td>\n",
       "      <td>0.740260</td>\n",
       "    </tr>\n",
       "    <tr>\n",
       "      <th>3</th>\n",
       "      <td>There are a very large number of people who do...</td>\n",
       "      <td>False</td>\n",
       "      <td>False</td>\n",
       "      <td>False</td>\n",
       "      <td>False</td>\n",
       "      <td>False</td>\n",
       "      <td>False</td>\n",
       "      <td>False</td>\n",
       "      <td>False</td>\n",
       "      <td>False</td>\n",
       "      <td>False</td>\n",
       "      <td>0.822430</td>\n",
       "    </tr>\n",
       "    <tr>\n",
       "      <th>4</th>\n",
       "      <td>The Arab dude is absolutely right, he should h...</td>\n",
       "      <td>False</td>\n",
       "      <td>False</td>\n",
       "      <td>False</td>\n",
       "      <td>False</td>\n",
       "      <td>False</td>\n",
       "      <td>False</td>\n",
       "      <td>False</td>\n",
       "      <td>False</td>\n",
       "      <td>False</td>\n",
       "      <td>False</td>\n",
       "      <td>0.744681</td>\n",
       "    </tr>\n",
       "  </tbody>\n",
       "</table>\n",
       "</div>"
      ],
      "text/plain": [
       "                                                Text  IsToxic  IsAbusive  \\\n",
       "0  If only people would just take a step back and...    False      False   \n",
       "1  Law enforcement is not trained to shoot to app...     True       True   \n",
       "2  \\nDont you reckon them 'black lives matter' ba...     True       True   \n",
       "3  There are a very large number of people who do...    False      False   \n",
       "4  The Arab dude is absolutely right, he should h...    False      False   \n",
       "\n",
       "   IsThreat  IsProvocative  IsObscene  IsHatespeech  IsRacist  IsNationalist  \\\n",
       "0     False          False      False         False     False          False   \n",
       "1     False          False      False         False     False          False   \n",
       "2     False          False       True         False     False          False   \n",
       "3     False          False      False         False     False          False   \n",
       "4     False          False      False         False     False          False   \n",
       "\n",
       "   IsSexist  IsReligiousHate  english_word_rate  \n",
       "0     False            False           0.846690  \n",
       "1     False            False           0.840000  \n",
       "2     False            False           0.740260  \n",
       "3     False            False           0.822430  \n",
       "4     False            False           0.744681  "
      ]
     },
     "execution_count": 90,
     "metadata": {},
     "output_type": "execute_result"
    }
   ],
   "source": [
    "# show data\n",
    "df.head()"
   ]
  },
  {
   "cell_type": "code",
   "execution_count": 91,
   "id": "3f56656e",
   "metadata": {},
   "outputs": [],
   "source": [
    "# Remove if a comment does not have 50% of english words\n",
    "df2 = df[df['english_word_rate'] > 0.5]\n",
    "# remove additional added colomn english_word_rate\n",
    "df2 = df2.drop(\"english_word_rate\" , axis=1)"
   ]
  },
  {
   "cell_type": "code",
   "execution_count": 92,
   "id": "5d0ec27d",
   "metadata": {},
   "outputs": [],
   "source": [
    "# save preprocessod data\n",
    "df2.to_pickle('preprocessod_data.pkl')"
   ]
  },
  {
   "cell_type": "code",
   "execution_count": 3,
   "id": "2f426c0f",
   "metadata": {},
   "outputs": [],
   "source": [
    "df_new = pd.read_pickle('preprocessod_data.pkl')"
   ]
  },
  {
   "cell_type": "code",
   "execution_count": 4,
   "id": "1c4ca73b",
   "metadata": {},
   "outputs": [
    {
     "data": {
      "text/html": [
       "<div>\n",
       "<style scoped>\n",
       "    .dataframe tbody tr th:only-of-type {\n",
       "        vertical-align: middle;\n",
       "    }\n",
       "\n",
       "    .dataframe tbody tr th {\n",
       "        vertical-align: top;\n",
       "    }\n",
       "\n",
       "    .dataframe thead th {\n",
       "        text-align: right;\n",
       "    }\n",
       "</style>\n",
       "<table border=\"1\" class=\"dataframe\">\n",
       "  <thead>\n",
       "    <tr style=\"text-align: right;\">\n",
       "      <th></th>\n",
       "      <th>Text</th>\n",
       "      <th>IsToxic</th>\n",
       "      <th>IsAbusive</th>\n",
       "      <th>IsThreat</th>\n",
       "      <th>IsProvocative</th>\n",
       "      <th>IsObscene</th>\n",
       "      <th>IsHatespeech</th>\n",
       "      <th>IsRacist</th>\n",
       "      <th>IsNationalist</th>\n",
       "      <th>IsSexist</th>\n",
       "      <th>IsReligiousHate</th>\n",
       "    </tr>\n",
       "  </thead>\n",
       "  <tbody>\n",
       "    <tr>\n",
       "      <th>0</th>\n",
       "      <td>If only people would just take a step back and...</td>\n",
       "      <td>False</td>\n",
       "      <td>False</td>\n",
       "      <td>False</td>\n",
       "      <td>False</td>\n",
       "      <td>False</td>\n",
       "      <td>False</td>\n",
       "      <td>False</td>\n",
       "      <td>False</td>\n",
       "      <td>False</td>\n",
       "      <td>False</td>\n",
       "    </tr>\n",
       "    <tr>\n",
       "      <th>1</th>\n",
       "      <td>Law enforcement is not trained to shoot to app...</td>\n",
       "      <td>True</td>\n",
       "      <td>True</td>\n",
       "      <td>False</td>\n",
       "      <td>False</td>\n",
       "      <td>False</td>\n",
       "      <td>False</td>\n",
       "      <td>False</td>\n",
       "      <td>False</td>\n",
       "      <td>False</td>\n",
       "      <td>False</td>\n",
       "    </tr>\n",
       "    <tr>\n",
       "      <th>2</th>\n",
       "      <td>\\nDont you reckon them 'black lives matter' ba...</td>\n",
       "      <td>True</td>\n",
       "      <td>True</td>\n",
       "      <td>False</td>\n",
       "      <td>False</td>\n",
       "      <td>True</td>\n",
       "      <td>False</td>\n",
       "      <td>False</td>\n",
       "      <td>False</td>\n",
       "      <td>False</td>\n",
       "      <td>False</td>\n",
       "    </tr>\n",
       "    <tr>\n",
       "      <th>3</th>\n",
       "      <td>There are a very large number of people who do...</td>\n",
       "      <td>False</td>\n",
       "      <td>False</td>\n",
       "      <td>False</td>\n",
       "      <td>False</td>\n",
       "      <td>False</td>\n",
       "      <td>False</td>\n",
       "      <td>False</td>\n",
       "      <td>False</td>\n",
       "      <td>False</td>\n",
       "      <td>False</td>\n",
       "    </tr>\n",
       "    <tr>\n",
       "      <th>4</th>\n",
       "      <td>The Arab dude is absolutely right, he should h...</td>\n",
       "      <td>False</td>\n",
       "      <td>False</td>\n",
       "      <td>False</td>\n",
       "      <td>False</td>\n",
       "      <td>False</td>\n",
       "      <td>False</td>\n",
       "      <td>False</td>\n",
       "      <td>False</td>\n",
       "      <td>False</td>\n",
       "      <td>False</td>\n",
       "    </tr>\n",
       "  </tbody>\n",
       "</table>\n",
       "</div>"
      ],
      "text/plain": [
       "                                                Text  IsToxic  IsAbusive  \\\n",
       "0  If only people would just take a step back and...    False      False   \n",
       "1  Law enforcement is not trained to shoot to app...     True       True   \n",
       "2  \\nDont you reckon them 'black lives matter' ba...     True       True   \n",
       "3  There are a very large number of people who do...    False      False   \n",
       "4  The Arab dude is absolutely right, he should h...    False      False   \n",
       "\n",
       "   IsThreat  IsProvocative  IsObscene  IsHatespeech  IsRacist  IsNationalist  \\\n",
       "0     False          False      False         False     False          False   \n",
       "1     False          False      False         False     False          False   \n",
       "2     False          False       True         False     False          False   \n",
       "3     False          False      False         False     False          False   \n",
       "4     False          False      False         False     False          False   \n",
       "\n",
       "   IsSexist  IsReligiousHate  \n",
       "0     False            False  \n",
       "1     False            False  \n",
       "2     False            False  \n",
       "3     False            False  \n",
       "4     False            False  "
      ]
     },
     "execution_count": 4,
     "metadata": {},
     "output_type": "execute_result"
    }
   ],
   "source": [
    "df_new.head()"
   ]
  },
  {
   "cell_type": "code",
   "execution_count": 5,
   "id": "a451aff1",
   "metadata": {},
   "outputs": [
    {
     "data": {
      "text/plain": [
       "(898, 11)"
      ]
     },
     "execution_count": 5,
     "metadata": {},
     "output_type": "execute_result"
    }
   ],
   "source": [
    "df_new.shape"
   ]
  },
  {
   "cell_type": "code",
   "execution_count": 7,
   "id": "d8f27719",
   "metadata": {},
   "outputs": [
    {
     "data": {
      "text/html": [
       "<div>\n",
       "<style scoped>\n",
       "    .dataframe tbody tr th:only-of-type {\n",
       "        vertical-align: middle;\n",
       "    }\n",
       "\n",
       "    .dataframe tbody tr th {\n",
       "        vertical-align: top;\n",
       "    }\n",
       "\n",
       "    .dataframe thead th {\n",
       "        text-align: right;\n",
       "    }\n",
       "</style>\n",
       "<table border=\"1\" class=\"dataframe\">\n",
       "  <thead>\n",
       "    <tr style=\"text-align: right;\">\n",
       "      <th></th>\n",
       "      <th>Text</th>\n",
       "      <th>IsToxic</th>\n",
       "      <th>IsAbusive</th>\n",
       "      <th>IsThreat</th>\n",
       "      <th>IsProvocative</th>\n",
       "      <th>IsObscene</th>\n",
       "      <th>IsHatespeech</th>\n",
       "      <th>IsRacist</th>\n",
       "      <th>IsNationalist</th>\n",
       "      <th>IsSexist</th>\n",
       "      <th>IsReligiousHate</th>\n",
       "    </tr>\n",
       "  </thead>\n",
       "  <tbody>\n",
       "    <tr>\n",
       "      <th>0</th>\n",
       "      <td>If only people would just take a step back and...</td>\n",
       "      <td>0</td>\n",
       "      <td>0</td>\n",
       "      <td>0</td>\n",
       "      <td>0</td>\n",
       "      <td>0</td>\n",
       "      <td>0</td>\n",
       "      <td>0</td>\n",
       "      <td>0</td>\n",
       "      <td>0</td>\n",
       "      <td>0</td>\n",
       "    </tr>\n",
       "    <tr>\n",
       "      <th>1</th>\n",
       "      <td>Law enforcement is not trained to shoot to app...</td>\n",
       "      <td>1</td>\n",
       "      <td>1</td>\n",
       "      <td>0</td>\n",
       "      <td>0</td>\n",
       "      <td>0</td>\n",
       "      <td>0</td>\n",
       "      <td>0</td>\n",
       "      <td>0</td>\n",
       "      <td>0</td>\n",
       "      <td>0</td>\n",
       "    </tr>\n",
       "    <tr>\n",
       "      <th>2</th>\n",
       "      <td>\\nDont you reckon them 'black lives matter' ba...</td>\n",
       "      <td>1</td>\n",
       "      <td>1</td>\n",
       "      <td>0</td>\n",
       "      <td>0</td>\n",
       "      <td>1</td>\n",
       "      <td>0</td>\n",
       "      <td>0</td>\n",
       "      <td>0</td>\n",
       "      <td>0</td>\n",
       "      <td>0</td>\n",
       "    </tr>\n",
       "    <tr>\n",
       "      <th>3</th>\n",
       "      <td>There are a very large number of people who do...</td>\n",
       "      <td>0</td>\n",
       "      <td>0</td>\n",
       "      <td>0</td>\n",
       "      <td>0</td>\n",
       "      <td>0</td>\n",
       "      <td>0</td>\n",
       "      <td>0</td>\n",
       "      <td>0</td>\n",
       "      <td>0</td>\n",
       "      <td>0</td>\n",
       "    </tr>\n",
       "    <tr>\n",
       "      <th>4</th>\n",
       "      <td>The Arab dude is absolutely right, he should h...</td>\n",
       "      <td>0</td>\n",
       "      <td>0</td>\n",
       "      <td>0</td>\n",
       "      <td>0</td>\n",
       "      <td>0</td>\n",
       "      <td>0</td>\n",
       "      <td>0</td>\n",
       "      <td>0</td>\n",
       "      <td>0</td>\n",
       "      <td>0</td>\n",
       "    </tr>\n",
       "  </tbody>\n",
       "</table>\n",
       "</div>"
      ],
      "text/plain": [
       "                                                Text  IsToxic  IsAbusive  \\\n",
       "0  If only people would just take a step back and...        0          0   \n",
       "1  Law enforcement is not trained to shoot to app...        1          1   \n",
       "2  \\nDont you reckon them 'black lives matter' ba...        1          1   \n",
       "3  There are a very large number of people who do...        0          0   \n",
       "4  The Arab dude is absolutely right, he should h...        0          0   \n",
       "\n",
       "   IsThreat  IsProvocative  IsObscene  IsHatespeech  IsRacist  IsNationalist  \\\n",
       "0         0              0          0             0         0              0   \n",
       "1         0              0          0             0         0              0   \n",
       "2         0              0          1             0         0              0   \n",
       "3         0              0          0             0         0              0   \n",
       "4         0              0          0             0         0              0   \n",
       "\n",
       "   IsSexist  IsReligiousHate  \n",
       "0         0                0  \n",
       "1         0                0  \n",
       "2         0                0  \n",
       "3         0                0  \n",
       "4         0                0  "
      ]
     },
     "execution_count": 7,
     "metadata": {},
     "output_type": "execute_result"
    }
   ],
   "source": [
    "data_new = df_new.drop('Text' , axis=1)# Create copy of DataFrame\n",
    "data_new = data_new.astype(int) # Transform all columns to integer\n",
    "data = df_new['Text']\n",
    "df_new = pd.concat([data , data_new] , axis=1)\n",
    "df_new.head()"
   ]
  },
  {
   "cell_type": "code",
   "execution_count": 8,
   "id": "257b0b5e",
   "metadata": {},
   "outputs": [],
   "source": [
    "# extract features and target variables\n",
    "X = df_new['Text'] #features\n",
    "Y = df_new[df_new.columns[1:]] # target variables"
   ]
  },
  {
   "cell_type": "code",
   "execution_count": 9,
   "id": "6322318b",
   "metadata": {},
   "outputs": [
    {
     "data": {
      "text/plain": [
       "0    If only people would just take a step back and...\n",
       "1    Law enforcement is not trained to shoot to app...\n",
       "2    \\nDont you reckon them 'black lives matter' ba...\n",
       "3    There are a very large number of people who do...\n",
       "4    The Arab dude is absolutely right, he should h...\n",
       "Name: Text, dtype: object"
      ]
     },
     "execution_count": 9,
     "metadata": {},
     "output_type": "execute_result"
    }
   ],
   "source": [
    "X.head()"
   ]
  },
  {
   "cell_type": "code",
   "execution_count": 10,
   "id": "dfc4f544",
   "metadata": {},
   "outputs": [
    {
     "data": {
      "text/plain": [
       "(898, 10)"
      ]
     },
     "execution_count": 10,
     "metadata": {},
     "output_type": "execute_result"
    }
   ],
   "source": [
    "Y.shape"
   ]
  },
  {
   "cell_type": "code",
   "execution_count": 11,
   "id": "c1721deb",
   "metadata": {},
   "outputs": [],
   "source": [
    "# insert TextVectorization to tokanized the featured\n",
    "from tensorflow.keras.layers import TextVectorization"
   ]
  },
  {
   "cell_type": "code",
   "execution_count": 12,
   "id": "465d178b",
   "metadata": {},
   "outputs": [],
   "source": [
    "ALL_WORDS = 200000 # define max number of words in vectorizer\n",
    "MAX_WORDS = 2000 # define max words in per comment"
   ]
  },
  {
   "cell_type": "code",
   "execution_count": 13,
   "id": "004425e7",
   "metadata": {},
   "outputs": [],
   "source": [
    "#initialize the vectorizer\n",
    "vectorizer = TextVectorization(max_tokens=ALL_WORDS,\n",
    "                               output_sequence_length=MAX_WORDS,\n",
    "                               output_mode='int')"
   ]
  },
  {
   "cell_type": "code",
   "execution_count": 14,
   "id": "61e62d83",
   "metadata": {},
   "outputs": [
    {
     "name": "stderr",
     "output_type": "stream",
     "text": [
      "2023-05-24 17:38:42.683631: W tensorflow/tsl/platform/profile_utils/cpu_utils.cc:128] Failed to get CPU frequency: 0 Hz\n"
     ]
    }
   ],
   "source": [
    "# fed our words to vectorizer and teach  as numpy array\n",
    "vectorizer.adapt(X.values)"
   ]
  },
  {
   "cell_type": "code",
   "execution_count": 15,
   "id": "45dfec3c",
   "metadata": {},
   "outputs": [],
   "source": [
    "# save the vectorized values to dataframe\n",
    "vectorized_text = vectorizer(X.values)"
   ]
  },
  {
   "cell_type": "code",
   "execution_count": 16,
   "id": "0125f80d",
   "metadata": {},
   "outputs": [
    {
     "data": {
      "text/plain": [
       "<tf.Tensor: shape=(898, 2000), dtype=int64, numpy=\n",
       "array([[  25,   82,   18, ...,    0,    0,    0],\n",
       "       [ 166,  444,    7, ...,    0,    0,    0],\n",
       "       [  55,    9, 2862, ...,    0,    0,    0],\n",
       "       ...,\n",
       "       [   2, 1138,   64, ...,    0,    0,    0],\n",
       "       [  12,   73,    7, ...,    0,    0,    0],\n",
       "       [ 235,    2, 3248, ...,    0,    0,    0]])>"
      ]
     },
     "execution_count": 16,
     "metadata": {},
     "output_type": "execute_result"
    }
   ],
   "source": [
    "# chech whether vectorized or not\n",
    "vectorized_text"
   ]
  },
  {
   "cell_type": "code",
   "execution_count": 17,
   "id": "3bd4f1ba",
   "metadata": {},
   "outputs": [
    {
     "data": {
      "text/plain": [
       "IsToxic            int64\n",
       "IsAbusive          int64\n",
       "IsThreat           int64\n",
       "IsProvocative      int64\n",
       "IsObscene          int64\n",
       "IsHatespeech       int64\n",
       "IsRacist           int64\n",
       "IsNationalist      int64\n",
       "IsSexist           int64\n",
       "IsReligiousHate    int64\n",
       "dtype: object"
      ]
     },
     "execution_count": 17,
     "metadata": {},
     "output_type": "execute_result"
    }
   ],
   "source": [
    "Y.dtypes"
   ]
  },
  {
   "cell_type": "code",
   "execution_count": 18,
   "id": "5e21c4f0",
   "metadata": {},
   "outputs": [],
   "source": [
    "# create tensorflow TensorSliceDataset\n",
    "dataset = tf.data.Dataset.from_tensor_slices((vectorized_text, Y))\n",
    "\n",
    "dataset = dataset.cache()\n",
    "dataset = dataset.shuffle(160000)\n",
    "dataset = dataset.batch(1)\n",
    "dataset = dataset.prefetch(8) # helps bottlenecks"
   ]
  },
  {
   "cell_type": "code",
   "execution_count": 19,
   "id": "382fbf98",
   "metadata": {},
   "outputs": [],
   "source": [
    "# divide into train vaidate and test\n",
    "train = dataset.take(int(len(dataset)*.7))\n",
    "val = dataset.skip(int(len(dataset)*.7)).take(int(len(dataset)*.2))\n",
    "test = dataset.skip(int(len(dataset)*.9)).take(int(len(dataset)*.1))"
   ]
  },
  {
   "cell_type": "code",
   "execution_count": 20,
   "id": "626c4c34",
   "metadata": {},
   "outputs": [],
   "source": [
    "# checkk the divided data\n",
    "train_generator = train.as_numpy_iterator ()"
   ]
  },
  {
   "cell_type": "code",
   "execution_count": 21,
   "id": "48b41f79",
   "metadata": {},
   "outputs": [
    {
     "data": {
      "text/plain": [
       "(array([[ 11, 245,   5, ...,   0,   0,   0]]),\n",
       " array([[0, 0, 0, 0, 0, 0, 0, 0, 0, 0]]))"
      ]
     },
     "execution_count": 21,
     "metadata": {},
     "output_type": "execute_result"
    }
   ],
   "source": [
    "train_generator .next ()"
   ]
  },
  {
   "cell_type": "code",
   "execution_count": 22,
   "id": "1556765e",
   "metadata": {},
   "outputs": [
    {
     "name": "stdout",
     "output_type": "stream",
     "text": [
      "train 628\n",
      "val 179\n",
      "test 89\n"
     ]
    }
   ],
   "source": [
    "print(\"train\" , len(train))\n",
    "print(\"val\" ,len(val))\n",
    "print(\"test\" ,len(test))"
   ]
  },
  {
   "cell_type": "code",
   "execution_count": 23,
   "id": "c1cedc5f",
   "metadata": {},
   "outputs": [],
   "source": [
    "from tensorflow.keras.models import Sequential\n",
    "from tensorflow.keras.layers import LSTM, Dropout, Bidirectional, Dense, Embedding"
   ]
  },
  {
   "cell_type": "code",
   "execution_count": 24,
   "id": "ef70103c",
   "metadata": {},
   "outputs": [],
   "source": [
    "model = Sequential()\n",
    "# Create the input layer \n",
    "model.add(Embedding(ALL_WORDS+1, 32))\n",
    "# Bidirectional LSTM Layer\n",
    "model.add(Bidirectional(LSTM(32, activation='tanh')))\n",
    "# Feature extractor Fully connected layers\n",
    "model.add(Dense(512, activation='relu'))\n",
    "model.add(Dense(256, activation='relu'))\n",
    "model.add(Dense(128, activation='relu'))\n",
    "# Final layer \n",
    "model.add(Dense(10, activation='sigmoid'))"
   ]
  },
  {
   "cell_type": "code",
   "execution_count": 25,
   "id": "267bf2ff",
   "metadata": {},
   "outputs": [],
   "source": [
    "model.compile(loss='BinaryCrossentropy', optimizer='Adam')"
   ]
  },
  {
   "cell_type": "code",
   "execution_count": 26,
   "id": "44c9b905",
   "metadata": {},
   "outputs": [
    {
     "name": "stdout",
     "output_type": "stream",
     "text": [
      "Model: \"sequential\"\n",
      "_________________________________________________________________\n",
      " Layer (type)                Output Shape              Param #   \n",
      "=================================================================\n",
      " embedding (Embedding)       (None, None, 32)          6400032   \n",
      "                                                                 \n",
      " bidirectional (Bidirectiona  (None, 64)               16640     \n",
      " l)                                                              \n",
      "                                                                 \n",
      " dense (Dense)               (None, 512)               33280     \n",
      "                                                                 \n",
      " dense_1 (Dense)             (None, 256)               131328    \n",
      "                                                                 \n",
      " dense_2 (Dense)             (None, 128)               32896     \n",
      "                                                                 \n",
      " dense_3 (Dense)             (None, 10)                1290      \n",
      "                                                                 \n",
      "=================================================================\n",
      "Total params: 6,615,466\n",
      "Trainable params: 6,615,466\n",
      "Non-trainable params: 0\n",
      "_________________________________________________________________\n"
     ]
    }
   ],
   "source": [
    "# summery of the model\n",
    "model.summary()"
   ]
  },
  {
   "cell_type": "code",
   "execution_count": 27,
   "id": "fed7bf78",
   "metadata": {},
   "outputs": [
    {
     "name": "stdout",
     "output_type": "stream",
     "text": [
      "Epoch 1/10\n",
      "628/628 [==============================] - 212s 335ms/step - loss: 0.3369 - val_loss: 0.3318\n",
      "Epoch 2/10\n",
      "628/628 [==============================] - 211s 336ms/step - loss: 0.3115 - val_loss: 0.2699\n",
      "Epoch 3/10\n",
      "628/628 [==============================] - 229s 364ms/step - loss: 0.2546 - val_loss: 0.2038\n",
      "Epoch 4/10\n",
      "628/628 [==============================] - 212s 337ms/step - loss: 0.2077 - val_loss: 0.1876\n",
      "Epoch 5/10\n",
      "628/628 [==============================] - 216s 344ms/step - loss: 0.1722 - val_loss: 0.1345\n",
      "Epoch 6/10\n",
      "628/628 [==============================] - 213s 339ms/step - loss: 0.1579 - val_loss: 0.1574\n",
      "Epoch 7/10\n",
      "628/628 [==============================] - 213s 340ms/step - loss: 0.1334 - val_loss: 0.1124\n",
      "Epoch 8/10\n",
      "628/628 [==============================] - 212s 337ms/step - loss: 0.1095 - val_loss: 0.0922\n",
      "Epoch 9/10\n",
      "628/628 [==============================] - 212s 337ms/step - loss: 0.0935 - val_loss: 0.0907\n",
      "Epoch 10/10\n",
      "628/628 [==============================] - 212s 338ms/step - loss: 0.0870 - val_loss: 0.1013\n"
     ]
    }
   ],
   "source": [
    "# train the created model\n",
    "history = model.fit(train, epochs=10, validation_data=val)"
   ]
  },
  {
   "cell_type": "code",
   "execution_count": 28,
   "id": "de6262de",
   "metadata": {},
   "outputs": [],
   "source": [
    "from tensorflow.keras.metrics import Precision, Recall, CategoricalAccuracy"
   ]
  },
  {
   "cell_type": "code",
   "execution_count": 29,
   "id": "307813e0",
   "metadata": {},
   "outputs": [],
   "source": [
    "pre = Precision()\n",
    "re = Recall()\n",
    "acc = CategoricalAccuracy()"
   ]
  },
  {
   "cell_type": "code",
   "execution_count": 30,
   "id": "98bb7bf1",
   "metadata": {},
   "outputs": [
    {
     "name": "stdout",
     "output_type": "stream",
     "text": [
      "1/1 [==============================] - 0s 483ms/step\n",
      "1/1 [==============================] - 0s 46ms/step\n",
      "1/1 [==============================] - 0s 42ms/step\n",
      "1/1 [==============================] - 0s 43ms/step\n",
      "1/1 [==============================] - 0s 43ms/step\n",
      "1/1 [==============================] - 0s 64ms/step\n",
      "1/1 [==============================] - 0s 42ms/step\n",
      "1/1 [==============================] - 0s 44ms/step\n",
      "1/1 [==============================] - 0s 42ms/step\n",
      "1/1 [==============================] - 0s 43ms/step\n",
      "1/1 [==============================] - 0s 44ms/step\n",
      "1/1 [==============================] - 0s 43ms/step\n",
      "1/1 [==============================] - 0s 42ms/step\n",
      "1/1 [==============================] - 0s 43ms/step\n",
      "1/1 [==============================] - 0s 43ms/step\n",
      "1/1 [==============================] - 0s 42ms/step\n",
      "1/1 [==============================] - 0s 43ms/step\n",
      "1/1 [==============================] - 0s 43ms/step\n",
      "1/1 [==============================] - 0s 43ms/step\n",
      "1/1 [==============================] - 0s 46ms/step\n",
      "1/1 [==============================] - 0s 44ms/step\n",
      "1/1 [==============================] - 0s 43ms/step\n",
      "1/1 [==============================] - 0s 43ms/step\n",
      "1/1 [==============================] - 0s 43ms/step\n",
      "1/1 [==============================] - 0s 42ms/step\n",
      "1/1 [==============================] - 0s 43ms/step\n",
      "1/1 [==============================] - 0s 44ms/step\n",
      "1/1 [==============================] - 0s 47ms/step\n",
      "1/1 [==============================] - 0s 44ms/step\n",
      "1/1 [==============================] - 0s 46ms/step\n",
      "1/1 [==============================] - 0s 45ms/step\n",
      "1/1 [==============================] - 0s 45ms/step\n",
      "1/1 [==============================] - 0s 43ms/step\n",
      "1/1 [==============================] - 0s 43ms/step\n",
      "1/1 [==============================] - 0s 42ms/step\n",
      "1/1 [==============================] - 0s 42ms/step\n",
      "1/1 [==============================] - 0s 42ms/step\n",
      "1/1 [==============================] - 0s 43ms/step\n",
      "1/1 [==============================] - 0s 46ms/step\n",
      "1/1 [==============================] - 0s 43ms/step\n",
      "1/1 [==============================] - 0s 42ms/step\n",
      "1/1 [==============================] - 0s 41ms/step\n",
      "1/1 [==============================] - 0s 43ms/step\n",
      "1/1 [==============================] - 0s 43ms/step\n",
      "1/1 [==============================] - 0s 43ms/step\n",
      "1/1 [==============================] - 0s 43ms/step\n",
      "1/1 [==============================] - 0s 43ms/step\n",
      "1/1 [==============================] - 0s 42ms/step\n",
      "1/1 [==============================] - 0s 44ms/step\n",
      "1/1 [==============================] - 0s 42ms/step\n",
      "1/1 [==============================] - 0s 42ms/step\n",
      "1/1 [==============================] - 0s 42ms/step\n",
      "1/1 [==============================] - 0s 43ms/step\n",
      "1/1 [==============================] - 0s 42ms/step\n",
      "1/1 [==============================] - 0s 42ms/step\n",
      "1/1 [==============================] - 0s 42ms/step\n",
      "1/1 [==============================] - 0s 44ms/step\n",
      "1/1 [==============================] - 0s 43ms/step\n",
      "1/1 [==============================] - 0s 45ms/step\n",
      "1/1 [==============================] - 0s 44ms/step\n",
      "1/1 [==============================] - 0s 65ms/step\n",
      "1/1 [==============================] - 0s 42ms/step\n",
      "1/1 [==============================] - 0s 43ms/step\n",
      "1/1 [==============================] - 0s 42ms/step\n",
      "1/1 [==============================] - 0s 42ms/step\n",
      "1/1 [==============================] - 0s 44ms/step\n",
      "1/1 [==============================] - 0s 43ms/step\n",
      "1/1 [==============================] - 0s 41ms/step\n",
      "1/1 [==============================] - 0s 42ms/step\n",
      "1/1 [==============================] - 0s 42ms/step\n",
      "1/1 [==============================] - 0s 43ms/step\n",
      "1/1 [==============================] - 0s 43ms/step\n",
      "1/1 [==============================] - 0s 41ms/step\n",
      "1/1 [==============================] - 0s 42ms/step\n",
      "1/1 [==============================] - 0s 43ms/step\n",
      "1/1 [==============================] - 0s 43ms/step\n",
      "1/1 [==============================] - 0s 42ms/step\n",
      "1/1 [==============================] - 0s 42ms/step\n",
      "1/1 [==============================] - 0s 43ms/step\n",
      "1/1 [==============================] - 0s 43ms/step\n",
      "1/1 [==============================] - 0s 42ms/step\n",
      "1/1 [==============================] - 0s 44ms/step\n",
      "1/1 [==============================] - 0s 42ms/step\n",
      "1/1 [==============================] - 0s 42ms/step\n",
      "1/1 [==============================] - 0s 42ms/step\n",
      "1/1 [==============================] - 0s 42ms/step\n",
      "1/1 [==============================] - 0s 43ms/step\n",
      "1/1 [==============================] - 0s 42ms/step\n",
      "1/1 [==============================] - 0s 42ms/step\n"
     ]
    }
   ],
   "source": [
    "for batch in test.as_numpy_iterator(): \n",
    "    # Unpack the batch \n",
    "    X_true, y_true = batch\n",
    "    # Make a prediction \n",
    "    yhat = model.predict(X_true)\n",
    "    \n",
    "    # Flatten the predictions\n",
    "    y_true = y_true.flatten()\n",
    "    yhat = yhat.flatten()\n",
    "    \n",
    "    pre.update_state(y_true, yhat)\n",
    "    re.update_state(y_true, yhat)\n",
    "    acc.update_state(y_true, yhat)"
   ]
  },
  {
   "cell_type": "code",
   "execution_count": 31,
   "id": "45f4f7c7",
   "metadata": {},
   "outputs": [
    {
     "name": "stdout",
     "output_type": "stream",
     "text": [
      "Precision: 0.9200000166893005, Recall:0.8679245114326477, Accuracy:0.7415730357170105\n"
     ]
    }
   ],
   "source": [
    "print(f'Precision: {pre.result().numpy()}, Recall:{re.result().numpy()}, Accuracy:{acc.result().numpy()}')"
   ]
  },
  {
   "cell_type": "code",
   "execution_count": 32,
   "id": "0c33671c",
   "metadata": {},
   "outputs": [],
   "source": [
    "model.save(\"comment_classificatio.h5\")"
   ]
  },
  {
   "cell_type": "code",
   "execution_count": 33,
   "id": "f67b42cf",
   "metadata": {},
   "outputs": [],
   "source": [
    "model = tf.keras.models.load_model('comment_classificatio.h5')"
   ]
  },
  {
   "cell_type": "code",
   "execution_count": 34,
   "id": "5ff3e72f",
   "metadata": {},
   "outputs": [],
   "source": [
    "input_str = vectorizer('I am going to it you')"
   ]
  },
  {
   "cell_type": "code",
   "execution_count": 35,
   "id": "954d22c0",
   "metadata": {},
   "outputs": [
    {
     "name": "stdout",
     "output_type": "stream",
     "text": [
      "1/1 [==============================] - 0s 335ms/step\n"
     ]
    }
   ],
   "source": [
    "\n",
    "import numpy as np\n",
    "res = model.predict(np.expand_dims(input_str,0))"
   ]
  },
  {
   "cell_type": "code",
   "execution_count": 37,
   "id": "5abf2b9b",
   "metadata": {},
   "outputs": [
    {
     "name": "stdout",
     "output_type": "stream",
     "text": [
      "---- IsThreat ----\n",
      "0.9999438\n",
      "---- IsProvocative ----\n",
      "0.99987644\n",
      "---- IsObscene ----\n",
      "0.01612318\n",
      "---- IsHatespeech ----\n",
      "0.548217\n",
      "---- IsRacist ----\n",
      "0.0846282\n",
      "---- IsNationalist ----\n",
      "0.00023261407\n",
      "---- IsSexist ----\n",
      "0.00028774102\n",
      "---- IsReligiousHate ----\n",
      "3.4969457e-08\n"
     ]
    }
   ],
   "source": [
    "for i, c in enumerate(df_new.columns[3:]):\n",
    "    print(\"----\", c, \"----\")\n",
    "    print(res[0,i])"
   ]
  }
 ],
 "metadata": {
  "kernelspec": {
   "display_name": "Python 3 (ipykernel)",
   "language": "python",
   "name": "python3"
  },
  "language_info": {
   "codemirror_mode": {
    "name": "ipython",
    "version": 3
   },
   "file_extension": ".py",
   "mimetype": "text/x-python",
   "name": "python",
   "nbconvert_exporter": "python",
   "pygments_lexer": "ipython3",
   "version": "3.10.11"
  }
 },
 "nbformat": 4,
 "nbformat_minor": 5
}
